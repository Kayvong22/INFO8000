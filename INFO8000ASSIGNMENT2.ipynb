{
 "cells": [
  {
   "cell_type": "code",
   "execution_count": 5,
   "metadata": {},
   "outputs": [],
   "source": [
    "import sqlite3"
   ]
  },
  {
   "cell_type": "code",
   "execution_count": 6,
   "metadata": {},
   "outputs": [
    {
     "name": "stdout",
     "output_type": "stream",
     "text": [
      "Opened database successfully\n"
     ]
    }
   ],
   "source": [
    "conn = sqlite3.connect('db1.sqlite')\n",
    "cursor = conn.cursor()\n",
    "print(\"Opened database successfully\")"
   ]
  },
  {
   "cell_type": "code",
   "execution_count": 13,
   "metadata": {},
   "outputs": [
    {
     "data": {
      "text/plain": [
       "<sqlite3.Cursor at 0x10c503880>"
      ]
     },
     "execution_count": 13,
     "metadata": {},
     "output_type": "execute_result"
    }
   ],
   "source": [
    "cursor.execute('''CREATE TABLE \"PLAYER\" (\n",
    "    \"ID\" INTEGER NOT NULL,\n",
    "    \"FIRSTNAME\" TEXT NOT NULL,\n",
    "    \"LASTNAME\" TEXT NOT NULL,\n",
    "    \"POSITION\" TEXT NOT NULL,\n",
    "    \"NUMBER\" INTEGER NOT NULL,\n",
    "    \"COUNTRYNUMBER\" INTEGER NOT NULL,\n",
    "    PRIMARY KEY(\"ID\"))''')"
   ]
  },
  {
   "cell_type": "code",
   "execution_count": 14,
   "metadata": {},
   "outputs": [
    {
     "data": {
      "text/plain": [
       "<sqlite3.Cursor at 0x10c503880>"
      ]
     },
     "execution_count": 14,
     "metadata": {},
     "output_type": "execute_result"
    }
   ],
   "source": [
    "cursor.execute(\"\"\"CREATE TABLE \"ATTRIBUTES\" (\n",
    "    \"HEIGHT\" INTEGER NOT NULL,\n",
    "    \"WEIGHT\" INTEGER NOT NULL,\n",
    "    \"FOOT\" TEXT NOT NULL,\n",
    "    \"ID\" INTEGER,\n",
    "    FOREIGN KEY(\"ID\") REFERENCES \"PLAYER\"(\"ID\") ON DELETE SET NULL)\"\"\")"
   ]
  },
  {
   "cell_type": "code",
   "execution_count": 15,
   "metadata": {},
   "outputs": [
    {
     "data": {
      "text/plain": [
       "<sqlite3.Cursor at 0x10c503880>"
      ]
     },
     "execution_count": 15,
     "metadata": {},
     "output_type": "execute_result"
    }
   ],
   "source": [
    "cursor.execute(\"\"\"CREATE TABLE \"TROPHIES\" (\n",
    "    \"INTERNATIONAL\" INTEGER,\n",
    "    \"DOMESTIC\" INTEGER,\n",
    "    \"ID\" INTEGER,\n",
    "    FOREIGN KEY(\"ID\") REFERENCES \"PLAYER\"(\"ID\") ON DELETE SET NULL)\"\"\")"
   ]
  },
  {
   "cell_type": "code",
   "execution_count": 16,
   "metadata": {},
   "outputs": [
    {
     "data": {
      "text/plain": [
       "<sqlite3.Cursor at 0x10c503880>"
      ]
     },
     "execution_count": 16,
     "metadata": {},
     "output_type": "execute_result"
    }
   ],
   "source": [
    "cursor.execute(\"\"\"CREATE TABLE \"TEAM\" (\n",
    "    \"NAME\" TEXT NOT NULL,\n",
    "    \"ID\" INTEGER,\n",
    "    FOREIGN KEY(\"ID\") REFERENCES \"PLAYER\"(\"ID\") ON DELETE SET NULL)\"\"\")"
   ]
  },
  {
   "cell_type": "code",
   "execution_count": 17,
   "metadata": {},
   "outputs": [],
   "source": [
    "cursor.execute(\"INSERT INTO PLAYER (ID,FIRSTNAME,LASTNAME,POSITION,NUMBER,COUNTRYNUMBER) \\\n",
    "      VALUES (1, 'David', 'De Gea','GK', 1, 1)\");\n",
    "cursor.execute(\"INSERT INTO PLAYER (ID,FIRSTNAME,LASTNAME,POSITION,NUMBER,COUNTRYNUMBER) \\\n",
    "      VALUES (2, 'Sergio', 'Romero', 'GK', 22, 1)\");\n",
    "cursor.execute(\"INSERT INTO PLAYER (ID,FIRSTNAME,LASTNAME,POSITION,NUMBER,COUNTRYNUMBER) \\\n",
    "      VALUES (3, 'Victor', 'Lindelof', 'CB', 2, 2)\");\n",
    "cursor.execute(\"INSERT INTO PLAYER (ID,FIRSTNAME,LASTNAME,POSITION,NUMBER,COUNTRYNUMBER) \\\n",
    "      VALUES (4, 'Harry', 'Maguire', 'CB', 5, 5)\");\n",
    "cursor.execute(\"INSERT INTO PLAYER (ID,FIRSTNAME,LASTNAME,POSITION,NUMBER,COUNTRYNUMBER) \\\n",
    "      VALUES (5, 'Brandon', 'Williams', 'RB', 53, 53)\");\n",
    "cursor.execute(\"INSERT INTO PLAYER (ID,FIRSTNAME,LASTNAME,POSITION,NUMBER,COUNTRYNUMBER) \\\n",
    "      VALUES (6, 'Paul', 'Pogba', 'CM', 6, 6)\");\n",
    "cursor.execute(\"INSERT INTO PLAYER (ID,FIRSTNAME,LASTNAME,POSITION,NUMBER,COUNTRYNUMBER) \\\n",
    "      VALUES (7, 'Scott', 'McTominay', 'CM', 39, 39)\");\n",
    "cursor.execute(\"INSERT INTO PLAYER (ID,FIRSTNAME,LASTNAME,POSITION,NUMBER,COUNTRYNUMBER) \\\n",
    "      VALUES (8, 'Anthony', 'Martial', 'ST', 9, 9)\");\n",
    "cursor.execute(\"INSERT INTO PLAYER (ID,FIRSTNAME,LASTNAME,POSITION,NUMBER,COUNTRYNUMBER) \\\n",
    "      VALUES (9, 'Mason', 'Greenwood', 'ST', 26, 26)\");\n",
    "cursor.execute(\"INSERT INTO PLAYER (ID,FIRSTNAME,LASTNAME,POSITION,NUMBER,COUNTRYNUMBER) \\\n",
    "      VALUES (10, 'Marcus', 'Rashford', 'ST', 10, 20)\");\n",
    "conn.commit()"
   ]
  },
  {
   "cell_type": "code",
   "execution_count": 18,
   "metadata": {},
   "outputs": [],
   "source": [
    "cursor.execute(\"INSERT INTO ATTRIBUTES (HEIGHT,WEIGHT,FOOT,ID) \\\n",
    "    VALUES (190.5, 157, 'RIGHT', 1)\");\n",
    "cursor.execute(\"INSERT INTO ATTRIBUTES (HEIGHT,WEIGHT,FOOT,ID) \\\n",
    "    VALUES (193.04, 192, 'RIGHT', 2)\");\n",
    "cursor.execute(\"INSERT INTO ATTRIBUTES (HEIGHT,WEIGHT,FOOT,ID) \\\n",
    "    VALUES (197.96, 179, 'RIGHT', 3)\");\n",
    "cursor.execute(\"INSERT INTO ATTRIBUTES (HEIGHT,WEIGHT,FOOT,ID) \\\n",
    "    VALUES (193.04, 216, 'RIGHT', 4)\");\n",
    "cursor.execute(\"INSERT INTO ATTRIBUTES (HEIGHT,WEIGHT,FOOT,ID) \\\n",
    "    VALUES (175.26, 159, 'LEFT', 5)\");\n",
    "cursor.execute(\"INSERT INTO ATTRIBUTES (HEIGHT,WEIGHT,FOOT,ID) \\\n",
    "    VALUES (190.5, 190, 'LEFT', 6)\");\n",
    "cursor.execute(\"INSERT INTO ATTRIBUTES (HEIGHT,WEIGHT,FOOT,ID) \\\n",
    "    VALUES (177.8, 143, 'RIGHT', 7)\");\n",
    "cursor.execute(\"INSERT INTO ATTRIBUTES (HEIGHT,WEIGHT,FOOT,ID) \\\n",
    "    VALUES (180.34, 168, 'RIGHT', 8)\");\n",
    "cursor.execute(\"INSERT INTO ATTRIBUTES (HEIGHT,WEIGHT,FOOT,ID) \\\n",
    "    VALUES (187.96, 143, 'RIGHT', 9)\");\n",
    "cursor.execute(\"INSERT INTO ATTRIBUTES (HEIGHT,WEIGHT,FOOT,ID) \\\n",
    "    VALUES (180.34, 172, 'RIGHT', 10)\");\n",
    "conn.commit()"
   ]
  },
  {
   "cell_type": "code",
   "execution_count": 19,
   "metadata": {},
   "outputs": [
    {
     "data": {
      "text/plain": [
       "<sqlite3.Cursor at 0x10c503880>"
      ]
     },
     "execution_count": 19,
     "metadata": {},
     "output_type": "execute_result"
    }
   ],
   "source": [
    "cursor.execute(\"\"\"CREATE TABLE \"COUNTRY\" (\n",
    "    \"COUNTRYID\" INTEGER NOT NULL,\n",
    "    \"NAME\" TEXT NOT NULL,\n",
    "    \"ID\" INTEGER,\n",
    "    FOREIGN KEY(\"ID\") REFERENCES \"PLAYER\"(\"ID\") ON DELETE SET NULL)\"\"\")"
   ]
  },
  {
   "cell_type": "code",
   "execution_count": 21,
   "metadata": {},
   "outputs": [],
   "source": [
    "cursor.execute(\"INSERT INTO COUNTRY (COUNTRYID,NAME,ID) \\\n",
    "    VALUES (1, 'SPAIN', 1)\");\n",
    "cursor.execute(\"INSERT INTO COUNTRY (COUNTRYID,NAME,ID) \\\n",
    "    VALUES (2, 'ARGENTINA', 2)\");\n",
    "cursor.execute(\"INSERT INTO COUNTRY (COUNTRYID,NAME,ID) \\\n",
    "    VALUES (3, 'SWEEDEN', 3)\");\n",
    "cursor.execute(\"INSERT INTO COUNTRY (COUNTRYID,NAME,ID) \\\n",
    "    VALUES (4, 'ENGLAND', 4)\");\n",
    "cursor.execute(\"INSERT INTO COUNTRY (COUNTRYID,NAME,ID) \\\n",
    "    VALUES (5, 'FRANCE', 6)\");\n",
    "cursor.execute(\"INSERT INTO COUNTRY (COUNTRYID,NAME,ID) \\\n",
    "    VALUES (6, 'SCOTLAND', 7)\");\n",
    "cursor.execute(\"INSERT INTO COUNTRY (COUNTRYID,NAME,ID) \\\n",
    "    VALUES (7, 'ENGLAND', 5)\");\n",
    "cursor.execute(\"INSERT INTO COUNTRY (COUNTRYID,NAME,ID) \\\n",
    "    VALUES (8, 'ENGLAND', 9)\");\n",
    "cursor.execute(\"INSERT INTO COUNTRY (COUNTRYID,NAME,ID) \\\n",
    "    VALUES (9, 'ENGLAND', 10)\");\n",
    "cursor.execute(\"INSERT INTO COUNTRY (COUNTRYID,NAME,ID) \\\n",
    "    VALUES (10, 'FRANCE', 8)\");"
   ]
  },
  {
   "cell_type": "code",
   "execution_count": 22,
   "metadata": {},
   "outputs": [],
   "source": [
    "cursor.execute(\"INSERT INTO TEAM (NAME,ID) \\\n",
    "    VALUES ('Manchester United', 1)\");\n",
    "cursor.execute(\"INSERT INTO TEAM (NAME,ID) \\\n",
    "    VALUES ('Manchester United', 2)\");\n",
    "cursor.execute(\"INSERT INTO TEAM (NAME,ID) \\\n",
    "    VALUES ('Manchester United', 3)\");\n",
    "cursor.execute(\"INSERT INTO TEAM (NAME,ID) \\\n",
    "    VALUES ('Manchester United', 4)\");\n",
    "cursor.execute(\"INSERT INTO TEAM (NAME,ID) \\\n",
    "    VALUES ('Manchester United', 5)\");\n",
    "cursor.execute(\"INSERT INTO TEAM (NAME,ID) \\\n",
    "    VALUES ('Manchester United', 6)\");\n",
    "cursor.execute(\"INSERT INTO TEAM (NAME,ID) \\\n",
    "    VALUES ('Manchester United', 7)\");\n",
    "cursor.execute(\"INSERT INTO TEAM (NAME,ID) \\\n",
    "    VALUES ('Manchester United', 8)\");\n",
    "cursor.execute(\"INSERT INTO TEAM (NAME,ID) \\\n",
    "    VALUES ('Manchester United', 9)\");\n",
    "cursor.execute(\"INSERT INTO TEAM (NAME,ID) \\\n",
    "    VALUES ('Manchester United', 10)\");\n",
    "conn.commit()"
   ]
  },
  {
   "cell_type": "code",
   "execution_count": 23,
   "metadata": {},
   "outputs": [],
   "source": [
    "cursor.execute(\"INSERT INTO TROPHIES (INTERNATIONAL,DOMESTIC,ID) \\\n",
    "    VALUES (1, 2, 1)\");\n",
    "cursor.execute(\"INSERT INTO TROPHIES (INTERNATIONAL,DOMESTIC,ID) \\\n",
    "    VALUES (1, 0, 2)\");\n",
    "cursor.execute(\"INSERT INTO TROPHIES (INTERNATIONAL,DOMESTIC,ID) \\\n",
    "    VALUES (0, 0, 3)\");\n",
    "cursor.execute(\"INSERT INTO TROPHIES (INTERNATIONAL,DOMESTIC,ID) \\\n",
    "    VALUES (0, 0, 4)\");\n",
    "cursor.execute(\"INSERT INTO TROPHIES (INTERNATIONAL,DOMESTIC,ID) \\\n",
    "    VALUES (0, 0, 5)\");\n",
    "cursor.execute(\"INSERT INTO TROPHIES (INTERNATIONAL,DOMESTIC,ID) \\\n",
    "    VALUES (1, 0, 6)\");\n",
    "cursor.execute(\"INSERT INTO TROPHIES (INTERNATIONAL,DOMESTIC,ID) \\\n",
    "    VALUES (0, 0, 7)\");\n",
    "cursor.execute(\"INSERT INTO TROPHIES (INTERNATIONAL,DOMESTIC,ID) \\\n",
    "    VALUES (1, 0, 8)\");\n",
    "cursor.execute(\"INSERT INTO TROPHIES (INTERNATIONAL,DOMESTIC,ID) \\\n",
    "    VALUES (0, 0, 9)\");\n",
    "cursor.execute(\"INSERT INTO TROPHIES (INTERNATIONAL,DOMESTIC,ID) \\\n",
    "    VALUES (0, 0, 10)\");\n",
    "conn.commit()"
   ]
  },
  {
   "cell_type": "code",
   "execution_count": 27,
   "metadata": {},
   "outputs": [
    {
     "name": "stdout",
     "output_type": "stream",
     "text": [
      "Opened database successfully\n"
     ]
    }
   ],
   "source": [
    "conn = sqlite3.connect('db1.sqlite')\n",
    "cursor = conn.cursor()\n",
    "print(\"Opened database successfully\")"
   ]
  },
  {
   "cell_type": "code",
   "execution_count": 29,
   "metadata": {},
   "outputs": [
    {
     "name": "stdout",
     "output_type": "stream",
     "text": [
      "   0\n",
      "0  1\n",
      "1  2\n",
      "2  6\n",
      "3  8\n"
     ]
    }
   ],
   "source": [
    "import pandas as pd\n",
    "curr = conn.execute(\"\"\"\n",
    "SELECT ID FROM TROPHIES WHERE INTERNATIONAL OR DOMESTIC >= 1\n",
    "\"\"\");\n",
    "rows = curr.fetchall()\n",
    "df = pd.DataFrame(rows)\n",
    "print(df)\n",
    "conn.commit()\n",
    "#SHOWS THE PLAYER ID OF THOSE PLAYERS WHO HAVE AT LEAST ONE TROPHY, INTERNATIONAL OR DOMESTIC."
   ]
  },
  {
   "cell_type": "code",
   "execution_count": 30,
   "metadata": {},
   "outputs": [
    {
     "name": "stdout",
     "output_type": "stream",
     "text": [
      "    0\n",
      "0   2\n",
      "1   3\n",
      "2   4\n",
      "3   6\n",
      "4   8\n",
      "5  10\n"
     ]
    }
   ],
   "source": [
    "curr = conn.execute(\"\"\"\n",
    "SELECT ID FROM \"ATTRIBUTES\" WHERE WEIGHT >= 160\n",
    "\"\"\");\n",
    "rows = curr.fetchall()\n",
    "df = pd.DataFrame(rows)\n",
    "print(df)\n",
    "conn.commit()\n",
    "#SHOWS THE PLAYER ID OF THOSE PLAYERS WHO HAVE A WEIGHT GREATER THAN OR EQUAL TO 160 LBS"
   ]
  },
  {
   "cell_type": "code",
   "execution_count": 31,
   "metadata": {},
   "outputs": [
    {
     "name": "stdout",
     "output_type": "stream",
     "text": [
      "    0\n",
      "0   2\n",
      "1   3\n",
      "2   4\n",
      "3   6\n",
      "4   8\n",
      "5  10\n"
     ]
    }
   ],
   "source": [
    "curr = conn.execute(\"\"\"\n",
    "SELECT ID FROM \"ATTRIBUTES\" WHERE WEIGHT >= 160\n",
    "\"\"\");\n",
    "rows = curr.fetchall()\n",
    "df = pd.DataFrame(rows)\n",
    "print(df)\n",
    "conn.commit()\n"
   ]
  },
  {
   "cell_type": "code",
   "execution_count": 35,
   "metadata": {},
   "outputs": [
    {
     "name": "stdout",
     "output_type": "stream",
     "text": [
      "    0\n",
      "0   4\n",
      "1   4\n",
      "2   5\n",
      "3   9\n",
      "4  10\n"
     ]
    }
   ],
   "source": [
    "curr = conn.execute(\"\"\"\n",
    "SELECT ID FROM COUNTRY WHERE NAME ='ENGLAND'\n",
    "\"\"\");\n",
    "rows = curr.fetchall()\n",
    "df = pd.DataFrame(rows)\n",
    "print(df)\n",
    "conn.commit()\n",
    "#SHOWS THE ID OF THE PLAYERS WHO ARE FROM ENGLAND"
   ]
  },
  {
   "cell_type": "code",
   "execution_count": 36,
   "metadata": {},
   "outputs": [
    {
     "name": "stdout",
     "output_type": "stream",
     "text": [
      "    0        1          2\n",
      "0   1    David     De Gea\n",
      "1   2   Sergio     Romero\n",
      "2   3   Victor   Lindelof\n",
      "3   4    Harry    Maguire\n",
      "4   5  Brandon   Williams\n",
      "5   6     Paul      Pogba\n",
      "6   7    Scott  McTominay\n",
      "7   8  Anthony    Martial\n",
      "8   9    Mason  Greenwood\n",
      "9  10   Marcus   Rashford\n"
     ]
    }
   ],
   "source": [
    "curr = conn.execute(\"\"\"\n",
    "SELECT ID, FIRSTNAME, LASTNAME FROM PLAYER;\n",
    "\"\"\");\n",
    "rows = curr.fetchall()\n",
    "df = pd.DataFrame(rows)\n",
    "print(df)\n",
    "conn.commit()\n",
    "#SHOWS THE PLAYER'S FIRST AND LAST NAMES ALONG WITH THEIR CORRESPONDING ID"
   ]
  },
  {
   "cell_type": "code",
   "execution_count": null,
   "metadata": {},
   "outputs": [],
   "source": [
    "curr = conn.execute(\"\"\"\n",
    "SELECT * FROM PLAYER, TEAM\n",
    "\"\"\");\n",
    "rows = curr.fetchall()\n",
    "df = pd.DataFrame(rows)\n",
    "print(df)\n",
    "conn.commit()\n",
    "#SHOWS THE ALL OF THE PLAYER INFO ALONG WITH THE TEAM INFO"
   ]
  }
 ],
 "metadata": {
  "kernelspec": {
   "display_name": "Python 3",
   "language": "python",
   "name": "python3"
  },
  "language_info": {
   "codemirror_mode": {
    "name": "ipython",
    "version": 3
   },
   "file_extension": ".py",
   "mimetype": "text/x-python",
   "name": "python",
   "nbconvert_exporter": "python",
   "pygments_lexer": "ipython3",
   "version": "3.7.4"
  }
 },
 "nbformat": 4,
 "nbformat_minor": 4
}
